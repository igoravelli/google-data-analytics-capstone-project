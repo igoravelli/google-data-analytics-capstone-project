{
 "cells": [
  {
   "cell_type": "code",
   "execution_count": 2,
   "metadata": {},
   "outputs": [
    {
     "name": "stdout",
     "output_type": "stream",
     "text": [
      "Warning: Your Kaggle API key is readable by other users on this system! To fix this, you can run 'chmod 600 /home/igorregly/.kaggle/kaggle.json'\n"
     ]
    }
   ],
   "source": [
    "import pandas as pd\n",
    "import numpy as np\n",
    "import kaggle"
   ]
  },
  {
   "cell_type": "code",
   "execution_count": 3,
   "metadata": {},
   "outputs": [
    {
     "name": "stdout",
     "output_type": "stream",
     "text": [
      "Warning: Your Kaggle API key is readable by other users on this system! To fix this, you can run 'chmod 600 /home/igorregly/.kaggle/kaggle.json'\n",
      "Downloading airbnb-prices-in-european-cities.zip to /home/igorregly/google-data-analytics-capstone-project\n",
      "100%|██████████████████████████████████████| 3.91M/3.91M [00:00<00:00, 17.5MB/s]\n",
      "100%|██████████████████████████████████████| 3.91M/3.91M [00:00<00:00, 16.1MB/s]\n"
     ]
    }
   ],
   "source": [
    "!kaggle datasets download -d thedevastator/airbnb-prices-in-european-cities"
   ]
  },
  {
   "cell_type": "code",
   "execution_count": 4,
   "metadata": {},
   "outputs": [
    {
     "name": "stdout",
     "output_type": "stream",
     "text": [
      "done!\n"
     ]
    }
   ],
   "source": [
    "from zipfile import ZipFile\n",
    "file_name = 'airbnb-prices-in-european-cities.zip'\n",
    "with ZipFile(file_name, 'r') as zip:\n",
    "    zip.extractall(path='./csv)files')\n",
    "    print(\"done!\")"
   ]
  },
  {
   "cell_type": "code",
   "execution_count": null,
   "metadata": {},
   "outputs": [],
   "source": []
  }
 ],
 "metadata": {
  "kernelspec": {
   "display_name": "Python 3 (ipykernel)",
   "language": "python",
   "name": "python3"
  },
  "orig_nbformat": 4,
  "vscode": {
   "interpreter": {
    "hash": "eb91af1e2a2074efce3494809c54b231c704dfeac269a21815b77eb61f080f0f"
   }
  }
 },
 "nbformat": 4,
 "nbformat_minor": 2
}
